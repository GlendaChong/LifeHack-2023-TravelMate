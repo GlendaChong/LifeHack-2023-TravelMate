{
  "cells": [
    {
      "cell_type": "markdown",
      "metadata": {
        "id": "view-in-github",
        "colab_type": "text"
      },
      "source": [
        "<a href=\"https://colab.research.google.com/github/GlendaChong/LifeHack-2023-TravelMate/blob/main/TravelMate.ipynb\" target=\"_parent\"><img src=\"https://colab.research.google.com/assets/colab-badge.svg\" alt=\"Open In Colab\"/></a>"
      ]
    },
    {
      "cell_type": "code",
      "execution_count": null,
      "metadata": {
        "id": "RSPOBWNWKvox"
      },
      "outputs": [],
      "source": [
        "!pip install python-telegram-bot\n",
        "!pip install nest_asyncio"
      ]
    },
    {
      "cell_type": "code",
      "execution_count": null,
      "metadata": {
        "id": "zR-_qja31kv7"
      },
      "outputs": [],
      "source": [
        "# Workaround for nested event loops in Jupyter\n",
        "# As Jupyter notebooks already have a running loop via Tornado and the asyncio lib does not allow a nested loop, we need to use a separate package called nest_asyncio\n",
        "import nest_asyncio\n",
        "import asyncio\n",
        "\n",
        "nest_asyncio.apply() "
      ]
    },
    {
      "cell_type": "code",
      "execution_count": null,
      "metadata": {
        "id": "IZKv7o40i8bh"
      },
      "outputs": [],
      "source": [
        "# Enable logging\n",
        "import logging\n",
        "logging.basicConfig(\n",
        "    format='%(asctime)s - %(name)s - %(levelname)s - %(message)s', level=logging.INFO\n",
        ")\n",
        "\n",
        "logger = logging.getLogger(__name__)"
      ]
    },
    {
      "cell_type": "code",
      "execution_count": null,
      "metadata": {
        "id": "T2ZUp3SQlf-6"
      },
      "outputs": [],
      "source": [
        "# Your token goes here\n",
        "token = \"6005913993:AAFBXaWfVMTc-anCG3ythX7pT1fAIBpnono\""
      ]
    },
    {
      "cell_type": "markdown",
      "metadata": {
        "id": "TEeYv9FtKuIz"
      },
      "source": [
        "# Our First Bot!\n",
        "\n",
        "We will learn the basics here."
      ]
    },
    {
      "cell_type": "code",
      "execution_count": null,
      "metadata": {
        "id": "lhEpLJBb1yxe"
      },
      "outputs": [],
      "source": [
        "from telegram import Update\n",
        "from telegram.constants import ParseMode\n",
        "from telegram import InlineQueryResultArticle, InputTextMessageContent, InlineKeyboardButton, InlineKeyboardMarkup, Update\n",
        "from telegram.ext import filters, MessageHandler, ApplicationBuilder, CommandHandler, ContextTypes, InlineQueryHandler, CallbackQueryHandler\n",
        "import math\n",
        "from random import random\n",
        "import datetime"
      ]
    },
    {
      "cell_type": "code",
      "execution_count": null,
      "metadata": {
        "id": "uwn9P4z0EAXm"
      },
      "outputs": [],
      "source": [
        "# Define a few command handlers. These usually take the two arguments update and context.\n",
        "\n",
        "async def start(update: Update, context: ContextTypes.DEFAULT_TYPE) -> None:\n",
        "    \"\"\"Send a message when the command /start is issued.\"\"\"\n",
        "    user = update.effective_user\n",
        "\n",
        "    keyboard = [\n",
        "            [InlineKeyboardButton(\"Recommendations\", callback_data=\"1\")],\n",
        "            [InlineKeyboardButton(\"Health Guidelines\", url='https://www.singaporeair.com/en_UK/sg/travel-info/covid-19/')],\n",
        "            [InlineKeyboardButton(\"Travel Services\", callback_data=\"2\")],\n",
        "    ]\n",
        "\n",
        "    reply_markup = InlineKeyboardMarkup(keyboard)\n",
        "    await update.message.reply_text(text='Hi! What would you like me to help you with?', reply_markup=reply_markup)\n",
        "\n",
        "async def recommendationss(update: Update, context: ContextTypes.DEFAULT_TYPE) -> None:\n",
        "    query = update.callback_query\n",
        "    await query.answer()\n",
        "    keyboard = [\n",
        "        [\n",
        "            InlineKeyboardButton(\"Food\", callback_data=\"3\"),\n",
        "            InlineKeyboardButton(\"Attractions\", callback_data=\"4\"),\n",
        "            \n",
        "        ]\n",
        "    ]\n",
        "    reply_markup = InlineKeyboardMarkup(keyboard)\n",
        "    await query.edit_message_text(\n",
        "        text=\"What recommendations would you like?\", reply_markup=reply_markup\n",
        "    )\n",
        "\n",
        "async def foodvieworpost(update: Update, context: ContextTypes.DEFAULT_TYPE) -> None:\n",
        "    query = update.callback_query\n",
        "    await query.answer()\n",
        "    keyboard = [\n",
        "        [\n",
        "            InlineKeyboardButton(\"View\", url=\"https://charmteng.wixsite.com/travelmate\"),\n",
        "            InlineKeyboardButton(\"Post\", url=\"https://charmteng.wixsite.com/travelmate\"),\n",
        "            \n",
        "        ]\n",
        "    ]\n",
        "    reply_markup = InlineKeyboardMarkup(keyboard)\n",
        "    await query.edit_message_text(\n",
        "        text=\"What would you like to do?\", reply_markup=reply_markup\n",
        "    )\n",
        "\n",
        "async def attractionsvieworpost(update: Update, context: ContextTypes.DEFAULT_TYPE) -> None:\n",
        "    query = update.callback_query\n",
        "    await query.answer()\n",
        "    keyboard = [\n",
        "        [\n",
        "            InlineKeyboardButton(\"View\", url=\"https://charmteng.wixsite.com/travelmate\"),\n",
        "            InlineKeyboardButton(\"Post\", url=\"https://charmteng.wixsite.com/travelmate\"),\n",
        "            \n",
        "        ]\n",
        "    ]\n",
        "    reply_markup = InlineKeyboardMarkup(keyboard)\n",
        "    await query.edit_message_text(\n",
        "        text=\"What would you like to do?\", reply_markup=reply_markup\n",
        "    )\n",
        "\n",
        "async def travelservices(update: Update, context: ContextTypes.DEFAULT_TYPE) -> None:\n",
        "    query = update.callback_query\n",
        "    await query.answer()\n",
        "    keyboard = [\n",
        "        [\n",
        "            InlineKeyboardButton(\"Translation\", url=\"https://t.me/lang_translate_bot\"),\n",
        "            InlineKeyboardButton(\"Flight searching\", url='https://t.me/airtrack_bot'),\n",
        "            InlineKeyboardButton(\"Hotel recommendations\", url='https://t.me/hotelbot'),\n",
        "        ]\n",
        "    ]\n",
        "    reply_markup = InlineKeyboardMarkup(keyboard)\n",
        "    await query.edit_message_text(\n",
        "        text=\"What type of travel service would you like help in?\", reply_markup=reply_markup\n",
        "    )\n",
        "\n",
        "# async def search_restaurants(update: Update, context: ContextTypes.DEFAULT_TYPE) -> None:\n",
        "    # \"\"\"Handler for the /search command.\"\"\"\n",
        "    # user = update.effective_user\n",
        "    # await context.bot.send_message(chat_id=update.effective_chat.id, text=\"Please enter a location or cuisine to search for restaurants.\")\n",
        "\n",
        "async def echo(update: Update, context: ContextTypes.DEFAULT_TYPE) -> None:\n",
        "    \"\"\"Echoes the user's message.\"\"\"\n",
        "    # TODO 1 Get your feet wet! Try this first\n",
        "    # Hint: use `text=update.message.text`\n",
        "    pass\n",
        "    # TODO 2 An alternative approach\n",
        "\n",
        "async def help(update: Update, context: ContextTypes.DEFAULT_TYPE) -> None:\n",
        "    \"\"\"Send a message when the command /help is issued.\"\"\"\n",
        "    await context.bot.send_message(chat_id=update.effective_chat.id, text=\"You are saved!\")\n",
        "    #TODO 3 Register my handlers\n",
        "\n",
        "async def unknown(update: Update, context: ContextTypes.DEFAULT_TYPE) -> None:\n",
        "    \"\"\"In the case of an unknown command\"\"\"\n",
        "    #TODO 4\n",
        "    pass\n",
        "\n",
        "    \n",
        "async def cat(update, context) -> None:\n",
        "    timestamp = datetime.datetime.now().isoformat()\n",
        "    url = f\"https://cataas.com/cat?a={timestamp}\" # As Telegram caches the URL\n",
        "    #Hint: You can use the `reply_photo()` method\n",
        "    # TODO 6\n",
        "    pass\n",
        "\n",
        "# Bonus content - inline mode. To test this out, type `/setinline` in @BotFather and type @<your bot's name> in any of your other chats to talk to your bot\n",
        "async def inline_caps(update: Update, context: ContextTypes.DEFAULT_TYPE) -> None:\n",
        "    \"\"\"Capitalises the message.\"\"\"\n",
        "    query = update.inline_query.query\n",
        "    if not query:\n",
        "        return\n",
        "    results = []\n",
        "    results.append(\n",
        "        InlineQueryResultArticle(\n",
        "            id=query.upper(),\n",
        "            title='Caps',\n",
        "            input_message_content=InputTextMessageContent(query.upper())\n",
        "        )\n",
        "    )\n",
        "    await context.bot.answer_inline_query(update.inline_query.id, results)\n",
        "\n",
        "async def error(update: Update, context: ContextTypes.DEFAULT_TYPE) -> None:\n",
        "    \"\"\"Log errors caused by updates.\"\"\"\n",
        "    logger.error('Update \"%s\" caused error \"%s\"', update, context.error)\n",
        "\n",
        "def main() -> None:\n",
        "    \"\"\"Start the bot.\"\"\"\n",
        "    application = ApplicationBuilder().token(token).build()\n",
        "    \n",
        "    # Create your handlers here\n",
        "    start_handler = CommandHandler('start', start)\n",
        "    echo_handler = MessageHandler(filters.TEXT & (~filters.COMMAND), echo)\n",
        "    help_handler = CommandHandler('help', help)\n",
        "    # search_restaurants_handler = CommandHandler('search', search_restaurants)\n",
        "    recommendations_handler = CallbackQueryHandler(recommendationss, \"1\")\n",
        "    travelservices_handler = CallbackQueryHandler(travelservices, \"2\")\n",
        "    foodrecommendations_handler = CallbackQueryHandler(foodvieworpost, \"3\")\n",
        "    attractionrecommendations_handler = CallbackQueryHandler(attractionsvieworpost, \"4\")\n",
        "\n",
        "    # Register your handlers here\n",
        "    application.add_handler(start_handler)\n",
        "    application.add_handler(help_handler)\n",
        "    application.add_handler(echo_handler)\n",
        "    # application.add_handler(search_restaurants_handler)\n",
        "    application.add_handler(recommendations_handler)\n",
        "    application.add_handler(travelservices_handler)\n",
        "    application.add_handler(foodrecommendations_handler)\n",
        "    application.add_handler(attractionrecommendations_handler)\n",
        "    \n",
        "    # Error handler\n",
        "    application.add_error_handler(error)\n",
        "\n",
        "    \n",
        "    # Add your quadratic and cat handlers here\n",
        "    # TODO 7\n",
        "\n",
        "    # We pass in the Telegram event loop as a nested event loop here - only for Jupyter\n",
        "    # Python version < 3.7\n",
        "    # loop = asyncio.get_event_loop()\n",
        "    # loop.create_task(application.run_polling())\n",
        "    # Python version >= 3.7\n",
        "    asyncio.run(application.run_polling())\n",
        "\n",
        "main()"
      ]
    }
  ],
  "metadata": {
    "colab": {
      "provenance": [],
      "include_colab_link": true
    },
    "kernelspec": {
      "display_name": "Python 3",
      "name": "python3"
    },
    "language_info": {
      "name": "python"
    }
  },
  "nbformat": 4,
  "nbformat_minor": 0
}